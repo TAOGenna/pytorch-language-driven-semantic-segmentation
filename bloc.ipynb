{
 "cells": [
  {
   "cell_type": "markdown",
   "metadata": {},
   "source": [
    "# Plan \n",
    "- [ ] How to use CLIP to encode the text? \n",
    "- [ ] How to use the Dense Prediction Transformers to encode the image? \n",
    "- [ ] How to combine these two? \n",
    "- [ ] How to attach the bottleneck for the upsampling(?)\n",
    "- [ ] What data set should I use? "
   ]
  },
  {
   "cell_type": "code",
   "execution_count": 1,
   "metadata": {},
   "outputs": [
    {
     "name": "stdout",
     "output_type": "stream",
     "text": [
      "0.19.1+cu121\n"
     ]
    },
    {
     "name": "stderr",
     "output_type": "stream",
     "text": [
      "Downloading: \"https://download.pytorch.org/models/vit_b_16-c867db91.pth\" to /home/rotakagui/.cache/torch/hub/checkpoints/vit_b_16-c867db91.pth\n",
      "100%|██████████| 330M/330M [00:31<00:00, 11.0MB/s] \n"
     ]
    }
   ],
   "source": [
    "import torchvision.models as models\n",
    "import torchvision\n",
    "print(torchvision.__version__)\n",
    "from torchvision.models import ViT_B_16_Weights\n",
    "\n",
    "# Load the ViT model with pretrained weights\n",
    "vit_model = models.vit_b_16(weights=ViT_B_16_Weights.IMAGENET1K_V1)\n"
   ]
  },
  {
   "cell_type": "code",
   "execution_count": null,
   "metadata": {},
   "outputs": [],
   "source": []
  }
 ],
 "metadata": {
  "kernelspec": {
   "display_name": "CLIP",
   "language": "python",
   "name": "python3"
  },
  "language_info": {
   "codemirror_mode": {
    "name": "ipython",
    "version": 3
   },
   "file_extension": ".py",
   "mimetype": "text/x-python",
   "name": "python",
   "nbconvert_exporter": "python",
   "pygments_lexer": "ipython3",
   "version": "3.8.20"
  }
 },
 "nbformat": 4,
 "nbformat_minor": 2
}
