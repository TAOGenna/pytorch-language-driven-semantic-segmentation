{
 "cells": [
  {
   "cell_type": "code",
   "execution_count": 10,
   "metadata": {},
   "outputs": [],
   "source": [
    "import sys\n",
    "import os\n",
    "import torch\n",
    "import torch.nn as nn\n",
    "import math\n",
    "# Get the parent directory\n",
    "parent_dir = os.path.abspath(os.path.join(os.getcwd(), \"..\"))\n",
    "\n",
    "# Append the sibling folder to sys.path\n",
    "sys.path.append(os.path.join(parent_dir, \"DPT\"))"
   ]
  },
  {
   "cell_type": "code",
   "execution_count": 11,
   "metadata": {},
   "outputs": [
    {
     "name": "stdout",
     "output_type": "stream",
     "text": [
      "torch.Size([10, 400, 1024])\n",
      "torch.Size([10, 20, 20, 1024])\n",
      "-----------------------------------------------------------\n",
      "torch.Size([10, 256, 80, 80])\n",
      "torch.Size([10, 256, 40, 40])\n",
      "torch.Size([10, 256, 20, 20])\n",
      "torch.Size([10, 256, 10, 10])\n",
      "-----------------------------------------------------------\n"
     ]
    }
   ],
   "source": [
    "from Reassemble import Read, Concatenate, Resample, Reassemble\n",
    "\n",
    "def test_read():\n",
    "    embedding_dimension = 1024\n",
    "    foo = Read(embedding_dimension=embedding_dimension)\n",
    "    dummy_array = torch.Tensor(size=(10,401,embedding_dimension))\n",
    "    out = foo(dummy_array)\n",
    "    print(out.shape)\n",
    "\n",
    "def test_concatenate():\n",
    "    embedding_dimension = 1024\n",
    "    image_size = 320\n",
    "    dummy_array = torch.Tensor(size=(10,401,embedding_dimension))\n",
    "    process = nn.Sequential(Read(embedding_dimension=embedding_dimension),Concatenate(patch_size=16,image_size=image_size))\n",
    "    out = process(dummy_array)\n",
    "    print(out.shape) # should print (B, H/p, W/p, D)\n",
    "\n",
    "def test_Reassemble():\n",
    "    embedding_dimension = 1024\n",
    "    image_size = 320\n",
    "    patch_size=16\n",
    "    s = [4,8,16,32]\n",
    "    dummy_array = torch.Tensor(size=(10,401,embedding_dimension))\n",
    "    print('-----------------------------------------------------------')\n",
    "    for s_i in s:\n",
    "        model = Reassemble(s_i,embedding_dimension,patch_size,image_size)\n",
    "        out = model(dummy_array)\n",
    "        print(out.shape)\n",
    "    print('-----------------------------------------------------------')\n",
    "\n",
    "test_read()\n",
    "test_concatenate()\n",
    "test_Reassemble()\n"
   ]
  },
  {
   "cell_type": "code",
   "execution_count": null,
   "metadata": {},
   "outputs": [],
   "source": []
  }
 ],
 "metadata": {
  "kernelspec": {
   "display_name": "CLIP",
   "language": "python",
   "name": "python3"
  },
  "language_info": {
   "codemirror_mode": {
    "name": "ipython",
    "version": 3
   },
   "file_extension": ".py",
   "mimetype": "text/x-python",
   "name": "python",
   "nbconvert_exporter": "python",
   "pygments_lexer": "ipython3",
   "version": "3.8.20"
  }
 },
 "nbformat": 4,
 "nbformat_minor": 2
}
