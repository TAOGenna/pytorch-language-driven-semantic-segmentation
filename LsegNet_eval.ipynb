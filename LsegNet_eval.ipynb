{
 "cells": [
  {
   "cell_type": "code",
   "execution_count": 3,
   "metadata": {},
   "outputs": [],
   "source": [
    "from LsegNet import LitLseg\n",
    "from Lseg.utils.util import get_dataset, get_labels"
   ]
  },
  {
   "cell_type": "code",
   "execution_count": null,
   "metadata": {},
   "outputs": [
    {
     "name": "stderr",
     "output_type": "stream",
     "text": [
      "/home/rotakagui/miniconda3/envs/CLIP/lib/python3.8/site-packages/lightning/fabric/utilities/cloud_io.py:57: You are using `torch.load` with `weights_only=False` (the current default value), which uses the default pickle module implicitly. It is possible to construct malicious pickle data which will execute arbitrary code during unpickling (See https://github.com/pytorch/pytorch/blob/main/SECURITY.md#untrusted-models for more details). In a future release, the default value for `weights_only` will be flipped to `True`. This limits the functions that could be executed during unpickling. Arbitrary objects will no longer be allowed to be loaded via this mode unless they are explicitly allowlisted by the user via `torch.serialization.add_safe_globals`. We recommend you start setting `weights_only=True` for any use case where you don't have full control of the loaded file. Please open an issue on GitHub for any issues related to this experimental feature.\n"
     ]
    }
   ],
   "source": [
    "# Define model\n",
    "labels = get_labels()\n",
    "\n",
    "config = {\n",
    "    \"max_epochs\": 50,\n",
    "    \"num_classes\": len(labels),\n",
    "    \"batch_size\": 2,\n",
    "    \"base_lr\": 0.04,\n",
    "}\n",
    "\n",
    "# load model \n",
    "load_checkpoint_path = r'checkpoints/checkpoint_epoch=0-val_loss=4.7199.ckpt'\n",
    "model = LitLseg.load_from_checkpoint(\n",
    "    load_checkpoint_path,\n",
    "    max_epochs = config['max_epochs'],\n",
    "    num_classes = config['num_classes'],\n",
    "    batch_size = config['batch_size'],\n",
    "    base_lr = config['base_lr'],\n",
    ")\n",
    "\n",
    "model = model.to(device='cuda').float()"
   ]
  },
  {
   "cell_type": "code",
   "execution_count": null,
   "metadata": {},
   "outputs": [
    {
     "name": "stdout",
     "output_type": "stream",
     "text": [
      "\tMapping ade20k-150 -> universal\n",
      "\tMapping bdd -> universal\n",
      "\tMapping cityscapes-19 -> universal\n",
      "\tMapping coco-panoptic-133 -> universal\n",
      "\tMapping idd-39 -> universal\n",
      "\tMapping mapillary-public65 -> universal\n",
      "\tMapping sunrgbd-37 -> universal\n",
      "\tMapping ade20k-150-relabeled -> universal\n",
      "\tMapping bdd-relabeled -> universal\n",
      "\tMapping cityscapes-19-relabeled -> universal\n",
      "\tMapping cityscapes-34-relabeled -> universal\n",
      "\tMapping coco-panoptic-133-relabeled -> universal\n",
      "\tMapping idd-39-relabeled -> universal\n",
      "\tMapping mapillary-public65-relabeled -> universal\n",
      "\tMapping sunrgbd-37-relabeled -> universal\n",
      "\n",
      "\tCreating 1x1 conv for test datasets...\n",
      "Totally 2000 samples in val set.\n",
      "Checking image&label pair val list done!\n",
      "image folder path: data/mseg_dataset/ADE20K/ADEChallengeData2016/\n",
      "text path: mseg-api/mseg/dataset_lists/ade20k-150-relabeled/list/val.txt\n"
     ]
    }
   ],
   "source": [
    "# Load evaluation ade20k dataset \n",
    "from torch.utils.data import DataLoader\n",
    "\n",
    "val_ade20k_dataset = get_dataset(dataset_name=\"ade20k\", get_train=False)\n",
    "val_dataloaders = DataLoader(val_ade20k_dataset, batch_size=config[\"batch_size\"], shuffle=False, num_workers=8)"
   ]
  },
  {
   "cell_type": "code",
   "execution_count": 9,
   "metadata": {},
   "outputs": [],
   "source": [
    "# Define metrics \n",
    "from torchmetrics import Accuracy, JaccardIndex\n",
    "\n",
    "NUM_CLASSES = 195\n",
    "accuracy_fn = Accuracy(task=\"multiclass\", num_classes=NUM_CLASSES).to(device=\"cuda\")\n",
    "iou_fn = JaccardIndex(task=\"multiclass\", num_classes=NUM_CLASSES).to(device=\"cuda\")"
   ]
  },
  {
   "cell_type": "code",
   "execution_count": 10,
   "metadata": {},
   "outputs": [
    {
     "name": "stderr",
     "output_type": "stream",
     "text": [
      "100%|██████████| 1000/1000 [03:00<00:00,  5.53it/s]"
     ]
    },
    {
     "name": "stdout",
     "output_type": "stream",
     "text": [
      "Number of examples: 2000\n",
      "Accuracy: 0.6008381535221125\n",
      "IoU: 0.19140128025584272\n"
     ]
    },
    {
     "name": "stderr",
     "output_type": "stream",
     "text": [
      "\n"
     ]
    }
   ],
   "source": [
    "# Evaluate accuracy IoU\n",
    "import torch\n",
    "import tqdm\n",
    "\n",
    "mean_accuracy = 0.0\n",
    "mean_iou = 0.0\n",
    "\n",
    "model.eval()\n",
    "with torch.no_grad():\n",
    "    for img, annotation in tqdm.tqdm(val_dataloaders):\n",
    "        img = img.to(device='cuda').float()\n",
    "        annotation = annotation.to(device='cuda').float()\n",
    "        output = model(img)\n",
    "        prediction = torch.argmax(output,dim=1)\n",
    "        mean_accuracy += accuracy_fn(prediction, annotation).item()\n",
    "        mean_iou += iou_fn(prediction,annotation).item()\n",
    "\n",
    "mean_accuracy = mean_accuracy / len(val_dataloaders)\n",
    "mean_iou = mean_iou / len(val_dataloaders)\n",
    "print(f\"Number of examples: {len(val_ade20k_dataset)}\")\n",
    "print(f\"Accuracy: {mean_accuracy}\")\n",
    "print(f\"IoU: {mean_iou}\")\n"
   ]
  }
 ],
 "metadata": {
  "kernelspec": {
   "display_name": "CLIP",
   "language": "python",
   "name": "python3"
  },
  "language_info": {
   "codemirror_mode": {
    "name": "ipython",
    "version": 3
   },
   "file_extension": ".py",
   "mimetype": "text/x-python",
   "name": "python",
   "nbconvert_exporter": "python",
   "pygments_lexer": "ipython3",
   "version": "3.8.20"
  }
 },
 "nbformat": 4,
 "nbformat_minor": 2
}
